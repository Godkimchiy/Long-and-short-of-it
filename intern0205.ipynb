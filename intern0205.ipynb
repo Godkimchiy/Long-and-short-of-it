{
  "nbformat": 4,
  "nbformat_minor": 0,
  "metadata": {
    "colab": {
      "name": "intern0205.ipynb",
      "provenance": [],
      "collapsed_sections": [],
      "authorship_tag": "ABX9TyMPejm0QMoeP1B/jfO6H80r",
      "include_colab_link": true
    },
    "kernelspec": {
      "name": "python3",
      "display_name": "Python 3"
    }
  },
  "cells": [
    {
      "cell_type": "markdown",
      "metadata": {
        "id": "view-in-github",
        "colab_type": "text"
      },
      "source": [
        "<a href=\"https://colab.research.google.com/github/Godkimchiy/Long-and-short-of-it/blob/master/intern0205.ipynb\" target=\"_parent\"><img src=\"https://colab.research.google.com/assets/colab-badge.svg\" alt=\"Open In Colab\"/></a>"
      ]
    },
    {
      "cell_type": "code",
      "metadata": {
        "id": "xSypNL1wCUKP",
        "colab_type": "code",
        "colab": {}
      },
      "source": [
        "import numpy as np\n",
        "import matplotlib.pyplot as plt"
      ],
      "execution_count": 0,
      "outputs": []
    },
    {
      "cell_type": "code",
      "metadata": {
        "id": "nnWI6KaUEYvh",
        "colab_type": "code",
        "colab": {
          "base_uri": "https://localhost:8080/",
          "height": 361
        },
        "outputId": "55ebfe99-a5cf-45a7-d411-c405fd00f061"
      },
      "source": [
        "# Making matrix & visulization for sample input image \n",
        "\n",
        "sess = tf.InteractiveSession()\n",
        "image = np.array([\n",
        "    [[[1],[2],[3]],\n",
        "     [[4],[5],[6]],\n",
        "     [[7],[8],[9]]]], dtype=np.float32\n",
        ")\n",
        "print(image.shape)\n",
        "plt.imshow(image.reshape(3,3), cmap='Greys') # shape을 보면 알듯이 reshape안해주면 에러난다."
      ],
      "execution_count": 41,
      "outputs": [
        {
          "output_type": "stream",
          "text": [
            "(1, 3, 3, 1)\n"
          ],
          "name": "stdout"
        },
        {
          "output_type": "stream",
          "text": [
            "/usr/local/lib/python3.6/dist-packages/tensorflow_core/python/client/session.py:1750: UserWarning: An interactive session is already active. This can cause out-of-memory errors in some cases. You must explicitly call `InteractiveSession.close()` to release resources held by the other session(s).\n",
            "  with InteractiveSession._count_lock:\n"
          ],
          "name": "stderr"
        },
        {
          "output_type": "execute_result",
          "data": {
            "text/plain": [
              "<matplotlib.image.AxesImage at 0x7f9b4090add8>"
            ]
          },
          "metadata": {
            "tags": []
          },
          "execution_count": 41
        },
        {
          "output_type": "display_data",
          "data": {
            "image/png": "[encoded data removed]",
            "text/plain": [
              "<Figure size 432x288 with 1 Axes>"
            ]
          },
          "metadata": {
            "tags": []
          }
        }
      ]
    },
    {
      "cell_type": "code",
      "metadata": {
        "id": "dilb21HrNQMk",
        "colab_type": "code",
        "colab": {
          "base_uri": "https://localhost:8080/",
          "height": 241
        },
        "outputId": "5fe1d643-4f7c-4637-8a91-98c6da36b553"
      },
      "source": [
        "# 1 filter (2,2,1,1) with paddding: VALID\n",
        "# weight.shape = 1filter(2,2,1,1) 2x2필터 \n",
        "# output after filtering image with filter(conv2d)\n",
        "\n",
        "print(\"shape of Image : \", image.shape)\n",
        "weight = tf.constant([\n",
        "                      [[[1.]],[[1.]]],\n",
        "                      [[[1.]],[[1.]]]         \n",
        "                      ]) # filter의 weight를 임의의로 설정해준다.\n",
        "print(\"shape of weight : \",weight.shape)\n",
        "conv2d = tf.nn.conv2d(image, weight, strides=[1,1,1,1], padding='VALID')\n",
        "conv2d_img = conv2d.eval()\n",
        "print(\"shape of conv2d_img : \",conv2d_img.shape) # image의 와 shape가 맞지 않다.\n",
        "conv2d_img = np.swapaxes(conv2d_img, 0, 3) # 행렬의 두 축을 바꿔서 image와 shape를 맞춘다.\n",
        "\n",
        "for i, one_img in enumerate(conv2d_img):\n",
        "  print(one_img.reshape(2,2))\n",
        "  plt.subplot(2,2,i+1), plt.imshow(one_img.reshape(2,2), cmap='Greys')"
      ],
      "execution_count": 37,
      "outputs": [
        {
          "output_type": "stream",
          "text": [
            "shape of Image :  (1, 3, 3, 1)\n",
            "shape of weight :  (2, 2, 1, 1)\n",
            "shape of conv2d_img :  (1, 2, 2, 1)\n",
            "[[12. 16.]\n",
            " [24. 28.]]\n"
          ],
          "name": "stdout"
        },
        {
          "output_type": "display_data",
          "data": {
            "image/png": "[encoded data removed]",
            "text/plain": [
              "<Figure size 432x288 with 1 Axes>"
            ]
          },
          "metadata": {
            "tags": []
          }
        }
      ]
    },
    {
      "cell_type": "markdown",
      "metadata": {
        "id": "-58Hv-FyWOFe",
        "colab_type": "text"
      },
      "source": [
        "일반적으로 입출력 사이즈를 같게하기 위해 padding = 'same' 조건을 두고 필터링을 거친다. 이번에는 conv2d layer(filter)를 거치면서 입출력의 사이즈도 동일하게 유지할 것이다"
      ]
    },
    {
      "cell_type": "code",
      "metadata": {
        "id": "XHpjYXIhQc-p",
        "colab_type": "code",
        "colab": {
          "base_uri": "https://localhost:8080/",
          "height": 312
        },
        "outputId": "dfc73748-bd4a-46e0-eb46-e183b49b6659"
      },
      "source": [
        "print(\"shape of image is \", image.shape)\n",
        "\n",
        "weight = tf.constant([\n",
        "                      [[[1.]],[[1.]]],\n",
        "                       [[[1.]],[[1.]]]\n",
        "])\n",
        "\n",
        "print(\"shape of weight is \", weight.shape)\n",
        "conv2d = tf.nn.conv2d(image, weight, strides=[1,1,1,1], padding='SAME')\n",
        "conv2d_img = conv2d.eval()\n",
        "print(\"shape of conv2d_img is \", conv2d_img.shape)\n",
        "conv2d_img = np.swapaxes(conv2d_img, 0,3)\n",
        "\n",
        "for i, one_img in enumerate(conv2d_img):\n",
        "  print(one_img.reshape(3,3))\n",
        "  plt.subplot(1,2,i+1), plt.imshow(one_img.reshape(3,3), cmap='Greys')"
      ],
      "execution_count": 42,
      "outputs": [
        {
          "output_type": "stream",
          "text": [
            "shape of image is  (1, 3, 3, 1)\n",
            "shape of weight is  (2, 2, 1, 1)\n",
            "shape of conv2d_img is  (1, 3, 3, 1)\n",
            "[[12. 16.  9.]\n",
            " [24. 28. 15.]\n",
            " [15. 17.  9.]]\n"
          ],
          "name": "stdout"
        },
        {
          "output_type": "display_data",
          "data": {
            "image/png": "[encoded data removed]",
            "text/plain": [
              "<Figure size 432x288 with 1 Axes>"
            ]
          },
          "metadata": {
            "tags": []
          }
        }
      ]
    },
    {
      "cell_type": "markdown",
      "metadata": {
        "id": "-dbwCJS0dtkt",
        "colab_type": "text"
      },
      "source": [
        "출력된 것을 보면 왼쪽상단 2x2는 위에서 구한것과 같고, padding으로 사이즈에 맞게 추가된 부분은 밝은 것으로 보아 0값들로 채워졌다는 것을 다시 한 번 확인할 수 있다."
      ]
    },
    {
      "cell_type": "markdown",
      "metadata": {
        "id": "zXHC3NOsfAXU",
        "colab_type": "text"
      },
      "source": [
        "이제는 필터를 세 개를 사용해 볼 것이다. weight의 shape에서 값을 늘려주면 되는데 이는 color 사진의 경우를 다룰 때 활용된다. Input 이미지가 (3x3) x3(r,g,b 각각 하나씩) 이러한 배열로 구성되기 때문이다."
      ]
    },
    {
      "cell_type": "code",
      "metadata": {
        "id": "16VCATk5e9xj",
        "colab_type": "code",
        "colab": {
          "base_uri": "https://localhost:8080/",
          "height": 362
        },
        "outputId": "5485e59a-8c51-410b-ea72-05624a0f84b0"
      },
      "source": [
        "print(\"shape of image is \", image.shape)\n",
        "\n",
        "weight = tf.constant([\n",
        "                      [[[1.,10.,-1.]],[[1.,10.,-1.]]],\n",
        "                      [[[1.,10.,-1.]],[[1.,10.,-1.]]]\n",
        "                      ])\n",
        "print(\"shape of weight is \", weight.shape)\n",
        "conv2d = tf.nn.conv2d(image, weight, strides=[1, 1, 1, 1], padding='SAME')\n",
        "conv2d_img = conv2d.eval()\n",
        "print(\"shape of conv2d_img is \", conv2d_img.shape)\n",
        "conv2d_img = np.swapaxes(conv2d_img, 0, 3)\n",
        "for i, one_img in enumerate(conv2d_img):\n",
        "    print(one_img.reshape(3,3))\n",
        "    plt.subplot(1,3,i+1), plt.imshow(one_img.reshape(3,3), cmap='Greys')"
      ],
      "execution_count": 43,
      "outputs": [
        {
          "output_type": "stream",
          "text": [
            "shape of image is  (1, 3, 3, 1)\n",
            "shape of weight is  (2, 2, 1, 3)\n",
            "shape of conv2d_img is  (1, 3, 3, 3)\n",
            "[[12. 16.  9.]\n",
            " [24. 28. 15.]\n",
            " [15. 17.  9.]]\n",
            "[[120. 160.  90.]\n",
            " [240. 280. 150.]\n",
            " [150. 170.  90.]]\n",
            "[[-12. -16.  -9.]\n",
            " [-24. -28. -15.]\n",
            " [-15. -17.  -9.]]\n"
          ],
          "name": "stdout"
        },
        {
          "output_type": "display_data",
          "data": {
            "image/png": "[encoded data removed]",
            "text/plain": [
              "<Figure size 432x288 with 3 Axes>"
            ]
          },
          "metadata": {
            "tags": []
          }
        }
      ]
    },
    {
      "cell_type": "markdown",
      "metadata": {
        "id": "m_XQlw56lJI9",
        "colab_type": "text"
      },
      "source": [
        "> **Subsampling Image Data - MaxPooling**\n",
        "\n",
        "2x2 filter & stride 2\n"
      ]
    },
    {
      "cell_type": "code",
      "metadata": {
        "id": "D5iCxULIli7p",
        "colab_type": "code",
        "colab": {
          "base_uri": "https://localhost:8080/",
          "height": 125
        },
        "outputId": "e29f21f8-7606-4ed6-824e-7a65574bf450"
      },
      "source": [
        "pool = tf.nn.max_pool(image, ksize=[1,2,2,1], strides=[1,1,1,1], padding='VALID')\n",
        "print(pool.shape)\n",
        "print(pool.eval())\n"
      ],
      "execution_count": 49,
      "outputs": [
        {
          "output_type": "stream",
          "text": [
            "(1, 2, 2, 1)\n",
            "[[[[5.]\n",
            "   [6.]]\n",
            "\n",
            "  [[8.]\n",
            "   [9.]]]]\n"
          ],
          "name": "stdout"
        }
      ]
    }
  ]
}
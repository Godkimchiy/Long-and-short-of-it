{
  "nbformat": 4,
  "nbformat_minor": 0,
  "metadata": {
    "colab": {
      "name": "intern0205.ipynb",
      "provenance": [],
      "collapsed_sections": [
        "m_XQlw56lJI9"
      ],
      "authorship_tag": "ABX9TyNXlEuXG3+qE0u7yfSoCgjf",
      "include_colab_link": true
    },
    "kernelspec": {
      "name": "python3",
      "display_name": "Python 3"
    }
  },
  "cells": [
    {
      "cell_type": "markdown",
      "metadata": {
        "id": "view-in-github",
        "colab_type": "text"
      },
      "source": [
        "<a href=\"https://colab.research.google.com/github/Godkimchiy/Long-and-short-of-it/blob/master/intern0205.ipynb\" target=\"_parent\"><img src=\"https://colab.research.google.com/assets/colab-badge.svg\" alt=\"Open In Colab\"/></a>"
      ]
    },
    {
      "cell_type": "code",
      "metadata": {
        "id": "xSypNL1wCUKP",
        "colab_type": "code",
        "colab": {}
      },
      "source": [
        "import numpy as np\n",
        "import tensorflow as tf\n",
        "import matplotlib.pyplot as plt"
      ],
      "execution_count": 0,
      "outputs": []
    },
    {
      "cell_type": "code",
      "metadata": {
        "id": "nnWI6KaUEYvh",
        "colab_type": "code",
        "outputId": "1cc0bf35-164f-4136-d33a-30827eaf05e6",
        "colab": {
          "base_uri": "https://localhost:8080/",
          "height": 305
        }
      },
      "source": [
        "# Making matrix & visulization for sample input image \n",
        "\n",
        "sess = tf.InteractiveSession()\n",
        "image = np.array([\n",
        "    [[[1],[2],[3]],\n",
        "     [[4],[5],[6]],\n",
        "     [[7],[8],[9]]]], dtype=np.float32\n",
        ")\n",
        "print(image.shape)\n",
        "plt.imshow(image.reshape(3,3), cmap='Greys') # shape을 보면 알듯이 reshape안해주면 에러난다."
      ],
      "execution_count": 11,
      "outputs": [
        {
          "output_type": "stream",
          "text": [
            "(1, 3, 3, 1)\n"
          ],
          "name": "stdout"
        },
        {
          "output_type": "execute_result",
          "data": {
            "text/plain": [
              "<matplotlib.image.AxesImage at 0x7efea0bc1f28>"
            ]
          },
          "metadata": {
            "tags": []
          },
          "execution_count": 11
        },
        {
          "output_type": "display_data",
          "data": {
            "image/png": "[encoded data removed]",
            "text/plain": [
              "<Figure size 432x288 with 1 Axes>"
            ]
          },
          "metadata": {
            "tags": []
          }
        }
      ]
    },
    {
      "cell_type": "code",
      "metadata": {
        "id": "dilb21HrNQMk",
        "colab_type": "code",
        "outputId": "432fee18-7316-45ee-9437-0fd26beb8724",
        "colab": {
          "base_uri": "https://localhost:8080/",
          "height": 241
        }
      },
      "source": [
        "# 1 filter (2,2,1,1) with paddding: VALID\n",
        "# weight.shape = 1filter(2,2,1,1) 2x2필터 \n",
        "# output after filtering image with filter(conv2d)\n",
        "\n",
        "print(\"shape of Image : \", image.shape)\n",
        "weight = tf.constant([\n",
        "                      [[[1.]],[[1.]]],\n",
        "                      [[[1.]],[[1.]]]         \n",
        "                      ]) # filter의 weight를 임의의로 설정해준다.\n",
        "print(\"shape of weight : \",weight.shape)\n",
        "conv2d = tf.nn.conv2d(image, weight, strides=[1,1,1,1], padding='VALID')\n",
        "conv2d_img = conv2d.eval()\n",
        "print(\"shape of conv2d_img : \",conv2d_img.shape) # image의 와 shape가 맞지 않다.\n",
        "conv2d_img = np.swapaxes(conv2d_img, 0, 3) # 행렬의 두 축을 바꿔서 image와 shape를 맞춘다.\n",
        "\n",
        "for i, one_img in enumerate(conv2d_img):\n",
        "  print(one_img.reshape(2,2))\n",
        "  plt.subplot(2,2,i+1), plt.imshow(one_img.reshape(2,2), cmap='Greys')"
      ],
      "execution_count": 12,
      "outputs": [
        {
          "output_type": "stream",
          "text": [
            "shape of Image :  (1, 3, 3, 1)\n",
            "shape of weight :  (2, 2, 1, 1)\n",
            "shape of conv2d_img :  (1, 2, 2, 1)\n",
            "[[12. 16.]\n",
            " [24. 28.]]\n"
          ],
          "name": "stdout"
        },
        {
          "output_type": "display_data",
          "data": {
            "image/png": "[encoded data removed]",
            "text/plain": [
              "<Figure size 432x288 with 1 Axes>"
            ]
          },
          "metadata": {
            "tags": []
          }
        }
      ]
    },
    {
      "cell_type": "markdown",
      "metadata": {
        "id": "-58Hv-FyWOFe",
        "colab_type": "text"
      },
      "source": [
        "일반적으로 입출력 사이즈를 같게하기 위해 padding = 'same' 조건을 두고 필터링을 거친다. 이번에는 conv2d layer(filter)를 거치면서 입출력의 사이즈도 동일하게 유지할 것이다"
      ]
    },
    {
      "cell_type": "code",
      "metadata": {
        "id": "XHpjYXIhQc-p",
        "colab_type": "code",
        "outputId": "275e6ecf-4e90-43f3-808f-548ff40f65ce",
        "colab": {
          "base_uri": "https://localhost:8080/",
          "height": 312
        }
      },
      "source": [
        "print(\"shape of image is \", image.shape)\n",
        "\n",
        "weight = tf.constant([\n",
        "                      [[[1.]],[[1.]]],\n",
        "                       [[[1.]],[[1.]]]\n",
        "])\n",
        "\n",
        "print(\"shape of weight is \", weight.shape)\n",
        "conv2d = tf.nn.conv2d(image, weight, strides=[1,1,1,1], padding='SAME')\n",
        "conv2d_img = conv2d.eval()\n",
        "print(\"shape of conv2d_img is \", conv2d_img.shape)\n",
        "conv2d_img = np.swapaxes(conv2d_img, 0,3)\n",
        "\n",
        "for i, one_img in enumerate(conv2d_img):\n",
        "  print(one_img.reshape(3,3))\n",
        "  plt.subplot(1,2,i+1), plt.imshow(one_img.reshape(3,3), cmap='Greys')"
      ],
      "execution_count": 13,
      "outputs": [
        {
          "output_type": "stream",
          "text": [
            "shape of image is  (1, 3, 3, 1)\n",
            "shape of weight is  (2, 2, 1, 1)\n",
            "shape of conv2d_img is  (1, 3, 3, 1)\n",
            "[[12. 16.  9.]\n",
            " [24. 28. 15.]\n",
            " [15. 17.  9.]]\n"
          ],
          "name": "stdout"
        },
        {
          "output_type": "display_data",
          "data": {
            "image/png": "[encoded data removed]",
            "text/plain": [
              "<Figure size 432x288 with 1 Axes>"
            ]
          },
          "metadata": {
            "tags": []
          }
        }
      ]
    },
    {
      "cell_type": "markdown",
      "metadata": {
        "id": "-dbwCJS0dtkt",
        "colab_type": "text"
      },
      "source": [
        "출력된 것을 보면 왼쪽상단 2x2는 위에서 구한것과 같고, padding으로 사이즈에 맞게 추가된 부분은 밝은 것으로 보아 0값들로 채워졌다는 것을 다시 한 번 확인할 수 있다."
      ]
    },
    {
      "cell_type": "markdown",
      "metadata": {
        "id": "zXHC3NOsfAXU",
        "colab_type": "text"
      },
      "source": [
        "이제는 필터를 세 개를 사용해 볼 것이다. weight의 shape에서 값을 늘려주면 되는데 이는 color 사진의 경우를 다룰 때 활용된다. Input 이미지가 (3x3) x3(r,g,b 각각 하나씩) 이러한 배열로 구성되기 때문이다."
      ]
    },
    {
      "cell_type": "code",
      "metadata": {
        "id": "16VCATk5e9xj",
        "colab_type": "code",
        "outputId": "5485e59a-8c51-410b-ea72-05624a0f84b0",
        "colab": {
          "base_uri": "https://localhost:8080/",
          "height": 362
        }
      },
      "source": [
        "print(\"shape of image is \", image.shape)\n",
        "\n",
        "weight = tf.constant([\n",
        "                      [[[1.,10.,-1.]],[[1.,10.,-1.]]],\n",
        "                      [[[1.,10.,-1.]],[[1.,10.,-1.]]]\n",
        "                      ])\n",
        "print(\"shape of weight is \", weight.shape)\n",
        "conv2d = tf.nn.conv2d(image, weight, strides=[1, 1, 1, 1], padding='SAME')\n",
        "conv2d_img = conv2d.eval()\n",
        "print(\"shape of conv2d_img is \", conv2d_img.shape)\n",
        "conv2d_img = np.swapaxes(conv2d_img, 0, 3)\n",
        "for i, one_img in enumerate(conv2d_img):\n",
        "    print(one_img.reshape(3,3))\n",
        "    plt.subplot(1,3,i+1), plt.imshow(one_img.reshape(3,3), cmap='Greys')"
      ],
      "execution_count": 0,
      "outputs": [
        {
          "output_type": "stream",
          "text": [
            "shape of image is  (1, 3, 3, 1)\n",
            "shape of weight is  (2, 2, 1, 3)\n",
            "shape of conv2d_img is  (1, 3, 3, 3)\n",
            "[[12. 16.  9.]\n",
            " [24. 28. 15.]\n",
            " [15. 17.  9.]]\n",
            "[[120. 160.  90.]\n",
            " [240. 280. 150.]\n",
            " [150. 170.  90.]]\n",
            "[[-12. -16.  -9.]\n",
            " [-24. -28. -15.]\n",
            " [-15. -17.  -9.]]\n"
          ],
          "name": "stdout"
        },
        {
          "output_type": "display_data",
          "data": {
            "image/png": "[encoded data removed]",
            "text/plain": [
              "<Figure size 432x288 with 3 Axes>"
            ]
          },
          "metadata": {
            "tags": []
          }
        }
      ]
    },
    {
      "cell_type": "markdown",
      "metadata": {
        "id": "m_XQlw56lJI9",
        "colab_type": "text"
      },
      "source": [
        "# **Subsampling Image Data - MaxPooling**\n",
        "\n",
        "2x2 filter & stride 2\n"
      ]
    },
    {
      "cell_type": "code",
      "metadata": {
        "id": "D5iCxULIli7p",
        "colab_type": "code",
        "outputId": "e29f21f8-7606-4ed6-824e-7a65574bf450",
        "colab": {
          "base_uri": "https://localhost:8080/",
          "height": 125
        }
      },
      "source": [
        "pool = tf.nn.max_pool(image, ksize=[1,2,2,1], strides=[1,1,1,1], padding='VALID')\n",
        "print(pool.shape)\n",
        "print(pool.eval())\n"
      ],
      "execution_count": 0,
      "outputs": [
        {
          "output_type": "stream",
          "text": [
            "(1, 2, 2, 1)\n",
            "[[[[5.]\n",
            "   [6.]]\n",
            "\n",
            "  [[8.]\n",
            "   [9.]]]]\n"
          ],
          "name": "stdout"
        }
      ]
    },
    {
      "cell_type": "markdown",
      "metadata": {
        "id": "mNvFauEo8pkf",
        "colab_type": "text"
      },
      "source": [
        "# **MNIST 이미지로 확인해보기**"
      ]
    },
    {
      "cell_type": "code",
      "metadata": {
        "id": "ffzrxF_i8uy4",
        "colab_type": "code",
        "colab": {
          "base_uri": "https://localhost:8080/",
          "height": 89
        },
        "outputId": "4d5cecee-3d5f-494d-8f46-b5cc1a3692a9"
      },
      "source": [
        "# 데이터 불러오기.\n",
        "from tensorflow.examples.tutorials.mnist import input_data\n",
        "\n",
        "mnist = input_data.read_data_sets(\"MNIST_data/\", one_hot = True)"
      ],
      "execution_count": 14,
      "outputs": [
        {
          "output_type": "stream",
          "text": [
            "Extracting MNIST_data/train-images-idx3-ubyte.gz\n",
            "Extracting MNIST_data/train-labels-idx1-ubyte.gz\n",
            "Extracting MNIST_data/t10k-images-idx3-ubyte.gz\n",
            "Extracting MNIST_data/t10k-labels-idx1-ubyte.gz\n"
          ],
          "name": "stdout"
        }
      ]
    },
    {
      "cell_type": "code",
      "metadata": {
        "id": "O5iVjCdI-Ch-",
        "colab_type": "code",
        "colab": {
          "base_uri": "https://localhost:8080/",
          "height": 283
        },
        "outputId": "43cf6cc2-f7aa-40cd-d931-007bb89bb5b0"
      },
      "source": [
        "img = mnist.train.images[0].reshape(28,28)\n",
        "plt.imshow(img, cmap = 'Greys')"
      ],
      "execution_count": 15,
      "outputs": [
        {
          "output_type": "execute_result",
          "data": {
            "text/plain": [
              "<matplotlib.image.AxesImage at 0x7efe9a7dd0f0>"
            ]
          },
          "metadata": {
            "tags": []
          },
          "execution_count": 15
        },
        {
          "output_type": "display_data",
          "data": {
            "image/png": "[encoded data removed]",
            "text/plain": [
              "<Figure size 432x288 with 1 Axes>"
            ]
          },
          "metadata": {
            "tags": []
          }
        }
      ]
    },
    {
      "cell_type": "code",
      "metadata": {
        "id": "pIeDeFUpBV9E",
        "colab_type": "code",
        "colab": {
          "base_uri": "https://localhost:8080/",
          "height": 35
        },
        "outputId": "1fa25199-3ffd-41c1-f326-f0c8ac5c40eb"
      },
      "source": [
        "img = img.reshape(-1,28,28,1) # -1 은 3차원 데이터의 개수를 무제한으로 한다는 말. 28x28 크기의 흑백(1) 이미지의 형태로 변환시킨다.\n",
        "w1 = tf.Variable(tf.random_normal([3,3,1,5], stddev=0.01)) # conv layer filter에 가중치 배정. 3x3, 흑백(1), filter 5개\n",
        "conv2d = tf.nn.conv2d(img, w1, strides = [1,2,2,1], padding = 'SAME') # 필터가 2칸씩 이동 이미지를 필터링 한다. 5개의 필터가 있기때문에 결과가 5개다.\n",
        "\n",
        "print(conv2d)"
      ],
      "execution_count": 20,
      "outputs": [
        {
          "output_type": "stream",
          "text": [
            "Tensor(\"Conv2D_4:0\", shape=(1, 14, 14, 5), dtype=float32)\n"
          ],
          "name": "stdout"
        }
      ]
    },
    {
      "cell_type": "code",
      "metadata": {
        "id": "6VHhTkwoHbmb",
        "colab_type": "code",
        "colab": {
          "base_uri": "https://localhost:8080/",
          "height": 108
        },
        "outputId": "bec52d4c-5857-4e0d-bba8-f6d07333d95a"
      },
      "source": [
        "sess.run(tf.global_variables_initializer())\n",
        "conv2d_img = conv2d.eval()\n",
        "conv2d_img = np.swapaxes(conv2d_img, 0,3)\n",
        "\n",
        "for i, one_img in enumerate(conv2d_img):\n",
        "  plt.subplot(1,5,i+1), plt.imshow(one_img.reshape(14,14), cmap='Greys')\n",
        "  # weight 가 랜덤으로 배정되어 필터가 5개가 주어졌으니 각 필터에 대한 결과도 이렇게 다르다."
      ],
      "execution_count": 21,
      "outputs": [
        {
          "output_type": "display_data",
          "data": {
            "image/png": "[encoded data removed]",
            "text/plain": [
              "<Figure size 432x288 with 5 Axes>"
            ]
          },
          "metadata": {
            "tags": []
          }
        }
      ]
    },
    {
      "cell_type": "markdown",
      "metadata": {
        "id": "1rYUMD9LLjH0",
        "colab_type": "text"
      },
      "source": [
        "## **MNIST Max Pooling**\n",
        "\n",
        "---\n",
        "\n"
      ]
    },
    {
      "cell_type": "code",
      "metadata": {
        "id": "gqaoWKdnL0a8",
        "colab_type": "code",
        "colab": {
          "base_uri": "https://localhost:8080/",
          "height": 35
        },
        "outputId": "c1d6351b-a932-421c-ab09-95d18ea14591"
      },
      "source": [
        "pool = tf.nn.max_pool(conv2d, ksize=[1,2,2,1], strides=[1,2,2,1], padding='SAME') # same 이지만 strides가 2x2 이므로 출력 사이즈가 작아진다.\n",
        "print(pool)"
      ],
      "execution_count": 22,
      "outputs": [
        {
          "output_type": "stream",
          "text": [
            "Tensor(\"MaxPool:0\", shape=(1, 7, 7, 5), dtype=float32)\n"
          ],
          "name": "stdout"
        }
      ]
    },
    {
      "cell_type": "code",
      "metadata": {
        "id": "QWft9cATNbGY",
        "colab_type": "code",
        "colab": {
          "base_uri": "https://localhost:8080/",
          "height": 106
        },
        "outputId": "d65bb5f5-6b6f-4c4e-cca5-28a77949bdcb"
      },
      "source": [
        "sess.run(tf.global_variables_initializer())\n",
        "pool_img = pool.eval()\n",
        "pool_img = np.swapaxes(pool_img, 0,3)\n",
        "\n",
        "for i, one_img in enumerate(pool_img):\n",
        "  plt.subplot(1,5,i+1), plt.imshow(one_img.reshape(7,7), cmap='Greys')"
      ],
      "execution_count": 24,
      "outputs": [
        {
          "output_type": "display_data",
          "data": {
            "image/png": "[encoded data removed]",
            "text/plain": [
              "<Figure size 432x288 with 5 Axes>"
            ]
          },
          "metadata": {
            "tags": []
          }
        }
      ]
    }
  ]
}